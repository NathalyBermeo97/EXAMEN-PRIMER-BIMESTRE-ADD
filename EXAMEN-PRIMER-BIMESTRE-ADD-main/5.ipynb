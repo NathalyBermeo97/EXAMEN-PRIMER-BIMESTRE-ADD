{
 "cells": [
  {
   "cell_type": "code",
   "execution_count": 1,
   "metadata": {},
   "outputs": [],
   "source": [
    "import requests\n",
    "from pymongo import MongoClient\n",
    "import couchdb"
   ]
  },
  {
   "cell_type": "code",
   "execution_count": 2,
   "metadata": {},
   "outputs": [
    {
     "name": "stdout",
     "output_type": "stream",
     "text": [
      "CouchDB connection: Success\n"
     ]
    }
   ],
   "source": [
    "URL = \"http://Nathaly Bermeo:nathalybermeo@127.0.0.1:5984\"\n",
    "try:\n",
    "    response = requests.get(URL)\n",
    "    if response.status_code == 200:\n",
    "        print(\"CouchDB connection: Success\")\n",
    "    if response.status_code == 401:\n",
    "        print(\"CouchDB connection: failed\", response.json())\n",
    "except requests.ConnectionError as e:\n",
    "    raise e\n",
    "server=couchdb.Server(URL)\n",
    "\n",
    "HEADERS = {\n",
    "    \"Accept\": \"application/json\",\n",
    "    \"Content-Type\": \"application/json\"\n",
    "}\n",
    "db = server[\"minecraft\"]"
   ]
  },
  {
   "cell_type": "code",
   "execution_count": 3,
   "metadata": {},
   "outputs": [
    {
     "name": "stdout",
     "output_type": "stream",
     "text": [
      "MongoDB connection: Success\n"
     ]
    }
   ],
   "source": [
    "client = MongoClient(\"mongodb://localhost:27017\")\n",
    "try:\n",
    "    client.admin.command(\"ismaster\")\n",
    "    print(\"MongoDB connection: Success\")\n",
    "except ConnectionFailure as cf:\n",
    "    print(\"MongoDB connection: Failed\", cf)\n",
    "\n",
    "dbs = client.get_database(\"MINECRAFT\")\n",
    "\n",
    "db_one = dbs.minecraft"
   ]
  },
  {
   "cell_type": "code",
   "execution_count": 5,
   "metadata": {},
   "outputs": [],
   "source": [
    "#Recopilar los datos de \"minecraft\" de couchdb a mongodb\n",
    "for id in db:\n",
    "    if(db_one.find_one({\"_id\" : db[id].id})):\n",
    "        print(\"This id of the document already exist\")\n",
    "    else:\n",
    "        db_one.insert_one(db[id])"
   ]
  },
  {
   "cell_type": "code",
   "execution_count": null,
   "metadata": {},
   "outputs": [],
   "source": []
  }
 ],
 "metadata": {
  "kernelspec": {
   "display_name": "Python 3",
   "language": "python",
   "name": "python3"
  },
  "language_info": {
   "codemirror_mode": {
    "name": "ipython",
    "version": 3
   },
   "file_extension": ".py",
   "mimetype": "text/x-python",
   "name": "python",
   "nbconvert_exporter": "python",
   "pygments_lexer": "ipython3",
   "version": "3.9.0"
  }
 },
 "nbformat": 4,
 "nbformat_minor": 4
}
