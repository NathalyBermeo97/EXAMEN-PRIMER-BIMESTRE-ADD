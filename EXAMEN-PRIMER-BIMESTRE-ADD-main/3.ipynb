{
 "cells": [
  {
   "cell_type": "code",
   "execution_count": 3,
   "metadata": {},
   "outputs": [],
   "source": [
    "from facebook_scraper import get_posts\n",
    "import json\n",
    "import time\n",
    "import pymongo\n",
    "from pymongo import MongoClient"
   ]
  },
  {
   "cell_type": "code",
   "execution_count": 5,
   "metadata": {},
   "outputs": [],
   "source": [
    "client =pymongo.MongoClient(\"mongodb://localhost:27017\")\n",
    "try:\n",
    "    db=client[\"Facebook\"]\n",
    "    collection=db[\"Fb\"]\n",
    "except:\n",
    "    db=client[\"Facebook\"]\n",
    "    collection=db[\"Fb\"]"
   ]
  },
  {
   "cell_type": "code",
   "execution_count": null,
   "metadata": {},
   "outputs": [
    {
     "name": "stdout",
     "output_type": "stream",
     "text": [
      "1\n"
     ]
    },
    {
     "name": "stderr",
     "output_type": "stream",
     "text": [
      "<ipython-input-6-2609e69fd1fd>:25: DeprecationWarning: save is deprecated. Use insert_one or replace_one instead\n",
      "  collection.save(doc)\n"
     ]
    },
    {
     "name": "stdout",
     "output_type": "stream",
     "text": [
      "guardado con exito\n",
      "2\n",
      "guardado con exito\n",
      "3\n",
      "guardado con exito\n",
      "4\n",
      "guardado con exito\n",
      "5\n",
      "guardado con exito\n",
      "6\n",
      "guardado con exito\n",
      "7\n",
      "guardado con exito\n",
      "8\n",
      "guardado con exito\n",
      "9\n",
      "guardado con exito\n",
      "10\n",
      "guardado con exito\n",
      "11\n",
      "guardado con exito\n",
      "12\n",
      "guardado con exito\n",
      "13\n",
      "guardado con exito\n",
      "14\n",
      "guardado con exito\n",
      "15\n",
      "guardado con exito\n",
      "16\n",
      "guardado con exito\n",
      "17\n",
      "guardado con exito\n",
      "18\n",
      "guardado con exito\n",
      "19\n",
      "guardado con exito\n",
      "20\n",
      "guardado con exito\n",
      "21\n",
      "guardado con exito\n",
      "22\n",
      "guardado con exito\n",
      "23\n",
      "guardado con exito\n",
      "24\n",
      "guardado con exito\n",
      "25\n",
      "guardado con exito\n",
      "26\n",
      "guardado con exito\n",
      "27\n",
      "guardado con exito\n",
      "28\n",
      "guardado con exito\n",
      "29\n",
      "guardado con exito\n",
      "30\n",
      "guardado con exito\n",
      "31\n",
      "guardado con exito\n",
      "32\n",
      "guardado con exito\n",
      "33\n",
      "guardado con exito\n",
      "34\n",
      "guardado con exito\n",
      "35\n",
      "guardado con exito\n",
      "36\n",
      "guardado con exito\n",
      "37\n"
     ]
    }
   ],
   "source": [
    "i=1\n",
    "for post in get_posts(\"Disney\",pages=1000,extra_info=True):\n",
    "    print(i)\n",
    "    i=i+1\n",
    "    time.sleep(5)\n",
    "    \n",
    "    id=post['post_id']\n",
    "    doc={}\n",
    "    \n",
    "    doc['id']=id\n",
    "    mydate=post['time']\n",
    "    \n",
    "    try:\n",
    "        doc['texto']=post['text']\n",
    "        doc['date']=mydate.timestamp()\n",
    "        doc['likes']=post['likes']\n",
    "        doc['comments']=post['comments']\n",
    "        doc['shares']=post['shares']\n",
    "        try:\n",
    "            doc['reactions']=post['reactions']\n",
    "        except:\n",
    "            doc['reactions']={}\n",
    "        \n",
    "        doc['post_url']=post['post_url']\n",
    "        collection.save(doc)\n",
    "        \n",
    "        print('guardado con exito')\n",
    "    except Exception as e:\n",
    "        print('no se pudo guardar:'+str(e))"
   ]
  },
  {
   "cell_type": "code",
   "execution_count": null,
   "metadata": {},
   "outputs": [],
   "source": []
  }
 ],
 "metadata": {
  "kernelspec": {
   "display_name": "Python 3",
   "language": "python",
   "name": "python3"
  },
  "language_info": {
   "codemirror_mode": {
    "name": "ipython",
    "version": 3
   },
   "file_extension": ".py",
   "mimetype": "text/x-python",
   "name": "python",
   "nbconvert_exporter": "python",
   "pygments_lexer": "ipython3",
   "version": "3.9.0"
  }
 },
 "nbformat": 4,
 "nbformat_minor": 4
}
