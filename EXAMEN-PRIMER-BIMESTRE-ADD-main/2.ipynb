{
 "cells": [
  {
   "cell_type": "code",
   "execution_count": 16,
   "metadata": {},
   "outputs": [],
   "source": [
    "import pymongo\n",
    "from pymongo import MongoClient\n",
    "import json\n",
    "import requests\n",
    "import pandas as pd\n",
    "from bs4 import BeautifulSoup"
   ]
  },
  {
   "cell_type": "code",
   "execution_count": 19,
   "metadata": {},
   "outputs": [],
   "source": [
    "client =pymongo.MongoClient(\"mongodb://localhost:27017\")\n",
    "try:\n",
    "    db=client[\"Web_Scraping\"]\n",
    "    collection=db[\"web\"]\n",
    "except:\n",
    "    db=client[\"Web_Scraping\"]\n",
    "    collection=db[\"web\"]"
   ]
  },
  {
   "cell_type": "code",
   "execution_count": 20,
   "metadata": {},
   "outputs": [],
   "source": [
    "def find_2nd(string, substring):\n",
    "    return string.find(substring, string.find(substring) + 1)\n",
    "def find_1st(string, substring):\n",
    "    return string.find(substring, string.find(substring))   \n",
    "\n",
    "response = requests.get(\"https://www.olx.com.ec\")\n",
    "soup = BeautifulSoup(response.content, \"lxml\")\n",
    "\n",
    "Articles=[]\n",
    "Location=[]\n",
    "Price=[]"
   ]
  },
  {
   "cell_type": "code",
   "execution_count": 25,
   "metadata": {},
   "outputs": [],
   "source": [
    "post_articles=soup.find_all(\"span\", class_=\"_2tW1I\")\n",
    "post_location=soup.find_all(\"span\",class_=\"tjgMj\")\n",
    "post_price=soup.find_all(\"span\",class_=\"_89yzn\")"
   ]
  },
  {
   "cell_type": "code",
   "execution_count": 26,
   "metadata": {},
   "outputs": [],
   "source": [
    "client =pymongo.MongoClient(\"mongodb://localhost:27017\")\n",
    "db=client[\"Web_Scraping\"]\n",
    "collection=db[\"Articulos\"]"
   ]
  },
  {
   "cell_type": "code",
   "execution_count": 24,
   "metadata": {},
   "outputs": [
    {
     "name": "stdout",
     "output_type": "stream",
     "text": [
      "Aspiradora De Polvo Sin Bolsa 1800w Electrolux Roja Eas31\n",
      "COCINA RCA 5 QUEMADORES 90G 50ME060GFT\n",
      "REPARACIÓN DE LAVADORAS REFRIGERADORAS CALEFONES MICROONDAS SERVICIO TÉCNICO A DOMICILIO EN LINEA BLANCA Y REFRIGERACIÓN\n",
      "PLOMERO DESTAPE DE CAÑERÍAS CAÑOS CERO ROTURAS FUGAS DE AGUA PVC Y COBRE QUITO Y VALLES PLOMERIA EN GENERAL\n",
      "Luv 2.2   4x2 Doble Cabina\n",
      "guante examinación nitrilo\n",
      "CORTADORA RUBI FAST 85\n",
      "Amazon Tablet Fire\n",
      "Fileteadora Rebanadora  de Carne\n",
      "Hd plus actuales c3 6i 9 pro 6 pro a01 y mas\n",
      "Tv antigua de 21\" marca tekno\n",
      "Cartucho Canon 210 Black\n",
      "TANQUE DE GAS (GRATIS BOQUILLA Y MANGUERA)\n",
      "SUPERMERCADO DE BARBIES\n",
      "Hyundai Santa Fe 2019 5p\n",
      "Radiograbadora Max ( nuevo )\n",
      "Tacometro de aveo famili\n",
      "PLANCHAS DE EXHIBICION CON RANURAS (3)\n",
      "Mesas y butacas\n",
      "Blusa manga larga\n"
     ]
    }
   ],
   "source": [
    "for element in post_articles:\n",
    "    element=str(element)\n",
    "    limpio=str(element[find_1st(element, '>')+1:find_2nd(element, '<')])\n",
    "    collection.insert_one({\"articles\":limpio})\n",
    "    print(limpio)\n",
    "    Articles.append(limpio.strip())\n",
    "    "
   ]
  },
  {
   "cell_type": "code",
   "execution_count": 27,
   "metadata": {},
   "outputs": [],
   "source": [
    "client =pymongo.MongoClient(\"mongodb://localhost:27017\")\n",
    "db=client[\"Web_Scraping\"]\n",
    "collection=db[\"Locacion\"]"
   ]
  },
  {
   "cell_type": "code",
   "execution_count": 28,
   "metadata": {},
   "outputs": [
    {
     "name": "stdout",
     "output_type": "stream",
     "text": [
      "Urbanor, Guayaquil\n",
      "Roca, Guayaquil\n",
      "Ambato, Tungurahua\n",
      "Mariana De Jesús, Quito\n",
      "Santo Domingo, Santo Domingo\n",
      "Roca, Guayaquil\n",
      "Santa Lucía Cumbayá, Quito\n",
      "Ponceano, Quito\n",
      "Lomas de la Prosperina, Guayaquil\n",
      "Bellavista, Quito\n",
      "San Bartolo, Quito\n",
      "Juan Montalvo, Guayaquil\n",
      "Samanes, Guayaquil\n",
      "Mariana De Jesús, Quito\n",
      "Sucre, Cuenca\n",
      "Alborada, Guayaquil\n",
      "Roca, Guayaquil\n",
      "Puengasí, Quito\n",
      "Aeropuerto José Joaquín de Olmedo, Guayaquil\n",
      "Urdesa, Guayaquil\n"
     ]
    }
   ],
   "source": [
    "for element in post_location:\n",
    "    element=str(element)\n",
    "    limpio=str(element[find_1st(element, '>')+1:find_2nd(element, '<')])\n",
    "    collection.insert_one({\"location\":limpio})\n",
    "    print(limpio)\n",
    "    Location.append(limpio.strip())"
   ]
  },
  {
   "cell_type": "code",
   "execution_count": 29,
   "metadata": {},
   "outputs": [],
   "source": [
    "client =pymongo.MongoClient(\"mongodb://localhost:27017\")\n",
    "db=client[\"Web_Scraping\"]\n",
    "collection=db[\"Precio\"]"
   ]
  },
  {
   "cell_type": "code",
   "execution_count": 30,
   "metadata": {},
   "outputs": [
    {
     "name": "stdout",
     "output_type": "stream",
     "text": [
      "$ 145\n",
      "$ 245\n",
      "$ 10\n",
      "$ 5\n",
      "$ 11,000\n",
      "$ 14\n",
      "$ 255\n",
      "$ 120\n",
      "$ 1,176\n",
      "$ 119\n",
      "$ 30\n",
      "$ 15\n",
      "$ 45\n",
      "$ 35\n",
      "$ 33,800\n",
      "$ 100\n",
      "$ 25\n",
      "$ 25\n",
      "$ 150\n",
      "$ 8\n"
     ]
    }
   ],
   "source": [
    "for element in post_price:\n",
    "    element=str(element)\n",
    "    limpio=str(element[find_1st(element, '>')+1:find_2nd(element, '<')])\n",
    "    collection.insert_one({\"price\":limpio})\n",
    "    print(limpio)\n",
    "    Price.append(limpio.strip())"
   ]
  },
  {
   "cell_type": "code",
   "execution_count": null,
   "metadata": {},
   "outputs": [],
   "source": []
  }
 ],
 "metadata": {
  "kernelspec": {
   "display_name": "Python 3",
   "language": "python",
   "name": "python3"
  },
  "language_info": {
   "codemirror_mode": {
    "name": "ipython",
    "version": 3
   },
   "file_extension": ".py",
   "mimetype": "text/x-python",
   "name": "python",
   "nbconvert_exporter": "python",
   "pygments_lexer": "ipython3",
   "version": "3.9.0"
  }
 },
 "nbformat": 4,
 "nbformat_minor": 4
}
